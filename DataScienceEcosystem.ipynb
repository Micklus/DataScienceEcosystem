{
  "nbformat": 4,
  "nbformat_minor": 0,
  "metadata": {
    "colab": {
      "provenance": []
    },
    "kernelspec": {
      "name": "python3",
      "display_name": "Python 3"
    },
    "language_info": {
      "name": "python"
    }
  },
  "cells": [
    {
      "cell_type": "markdown",
      "source": [
        "# Data Science Tools and Ecosystem"
      ],
      "metadata": {
        "id": "dG2NyFZ2-_3K"
      }
    },
    {
      "cell_type": "markdown",
      "source": [
        "# In this notebook, Data Science Tools and Ecosystem are summarized."
      ],
      "metadata": {
        "id": "9X0oUbLcBAnC"
      }
    },
    {
      "cell_type": "markdown",
      "source": [
        "# **Objectives**:\n",
        "\n",
        "\n",
        "*   Create a Jupyter Notebook\n",
        "*   Insert code and markdown cells\n",
        "*   Share your notebook through GitHub\n",
        "\n"
      ],
      "metadata": {
        "id": "2Mkt2rjsYotL"
      }
    },
    {
      "cell_type": "markdown",
      "source": [
        "# Some of the popular languages that Data Scientists use are:\n",
        "\n",
        "\n",
        "1.   Python\n",
        "2.   R\n",
        "3.   SQL\n",
        "4.   Julia\n",
        "\n",
        "\n",
        "\n",
        "\n",
        "\n"
      ],
      "metadata": {
        "id": "E2f10h5bFhC-"
      }
    },
    {
      "cell_type": "markdown",
      "source": [
        "# Some of the commonly used libraries used by Data Scientists include:\n",
        "\n",
        "\n",
        "1.   Numpy\n",
        "2.   Seaborn\n",
        "3.   Pandas\n",
        "4.   Matplotlib\n",
        "5.   TensorFlow\n",
        "6.   Caret\n",
        "7.   ggplot2\n",
        "\n"
      ],
      "metadata": {
        "id": "B5DB8FfkHgZM"
      }
    },
    {
      "cell_type": "markdown",
      "source": [
        "| Data Science Tools           |\n",
        "|------------------------------|\n",
        "| Jupyter Notebook             |\n",
        "| RStudio                      |\n",
        "| Apache Zeppelin              |\n",
        "\n"
      ],
      "metadata": {
        "id": "rL9hS5JXMJ8q"
      }
    },
    {
      "cell_type": "markdown",
      "source": [
        "### Below are a few examples of evaluating arithmetic expressions in Python"
      ],
      "metadata": {
        "id": "x_E9p6xyO_Dh"
      }
    },
    {
      "cell_type": "code",
      "source": [
        "# This a simple arithmetic expression to mutiply then add integers\n",
        "(3*4)+5"
      ],
      "metadata": {
        "colab": {
          "base_uri": "https://localhost:8080/"
        },
        "id": "Ia8-TasrRuAh",
        "outputId": "fa188fc3-c90f-44d7-d5e5-6393de181a6f"
      },
      "execution_count": 4,
      "outputs": [
        {
          "output_type": "execute_result",
          "data": {
            "text/plain": [
              "17"
            ]
          },
          "metadata": {},
          "execution_count": 4
        }
      ]
    },
    {
      "cell_type": "code",
      "source": [
        "# This will convert 200 minutes to hours by diving by 60\n",
        "print(200 // 60, \"hrs\", 200 % 60, \"min\")"
      ],
      "metadata": {
        "colab": {
          "base_uri": "https://localhost:8080/"
        },
        "id": "DBQwn_eVVo1k",
        "outputId": "57b36624-042b-43c9-90f4-228d2f196c20"
      },
      "execution_count": 12,
      "outputs": [
        {
          "output_type": "stream",
          "name": "stdout",
          "text": [
            "3 hrs 20 min\n"
          ]
        }
      ]
    },
    {
      "cell_type": "markdown",
      "source": [
        "## Author\n",
        "Mickaël Julus Jésugnon AHOUANGAN"
      ],
      "metadata": {
        "id": "plXyncNxbc-X"
      }
    }
  ]
}